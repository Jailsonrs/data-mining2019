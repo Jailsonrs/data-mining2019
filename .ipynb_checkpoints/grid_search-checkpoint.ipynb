{
 "cells": [
  {
   "cell_type": "code",
   "execution_count": 4,
   "metadata": {},
   "outputs": [],
   "source": [
    "import numpy as np\n",
    "from sklearn import datasets, svm\n",
    "from sklearn.model_selection import RepeatedKFold,\\\n",
    "    RepeatedStratifiedKFold, cross_val_score\n",
    "from sklearn.base import BaseEstimator\n",
    "import numpy as np\n",
    "from sklearn import datasets, tree\n",
    "import sklearn.model_selection as msel"
   ]
  },
  {
   "cell_type": "code",
   "execution_count": null,
   "metadata": {},
   "outputs": [],
   "source": [
    "iris = datasets.load_iris()\n",
    "X_iris = iris.data\n",
    "y_iris = iris.target\n",
    "\n",
    "[m,n] = iris.data.shape\n",
    "print('Numero de exemplos:', m)\n",
    "print('Numero de caraceristicas:', n, end='\\n\\n')"
   ]
  },
  {
   "cell_type": "code",
   "execution_count": null,
   "metadata": {},
   "outputs": [],
   "source": [
    "# Classificador arvore de decisao com parametros default\n",
    "arvdec = tree.DecisionTreeClassifier()\n",
    "\n",
    "# Esquema de particao dos dados\n",
    "particao = msel.RepeatedStratifiedKFold(n_splits=5, n_repeats=3)\n",
    "\n",
    "# Precisao da validacao cruzada com parametros default\n",
    "precisoes = msel.cross_val_score(arvdec, X_iris, y_iris, cv=particao)\n",
    "print('Precisao media (default):',\n",
    "      np.round(np.average(precisoes), 4), end='\\n')\n",
    "\n",
    "\n",
    "# Dicionario com parametros que serao ajustados e seus valores\n",
    "parametros = {\n",
    "        'max_depth': [None, 3, 5],\n",
    "        'min_samples_leaf': [1, 2, 5]\n",
    "        }\n",
    "# Podemos incluir parametros tambem desta forma:\n",
    "parametros['min_samples_split'] = [2, 5]\n",
    "\n",
    "# Criar objeto responsavel pela busca em grade\n",
    "gs = msel.GridSearchCV(estimator=arvdec,\n",
    "                  param_grid=parametros,\n",
    "                  scoring='accuracy',\n",
    "                  cv=particao)\n",
    "\n",
    "gs.fit(X_iris, y_iris)"
   ]
  },
  {
   "cell_type": "code",
   "execution_count": null,
   "metadata": {},
   "outputs": [],
   "source": [
    "print('Melhores parametros:', gs.best_params_)\n",
    "print('Parametros default sao:')\n",
    "print('\\tmax_depth:', arvdec.max_depth)\n",
    "print('\\tmin_samples_leaf:', arvdec.min_samples_leaf)\n",
    "print('\\tmin_samples_split:', arvdec.min_samples_split)\n",
    "\n",
    "# Precisao da validacao cruzada com melhores parametros encontrados\n",
    "melhor_arvore = tree.DecisionTreeClassifier(**gs.best_params_)\n",
    "precisoes = msel.cross_val_score(melhor_arvore, X_iris, y_iris, cv=particao)\n",
    "print('Precisao media (melhores parametros):',\n",
    "      np.round(np.average(precisoes), 4), end='\\n')"
   ]
  }
 ],
 "metadata": {
  "kernelspec": {
   "display_name": "Python 3",
   "language": "python",
   "name": "python3"
  },
  "language_info": {
   "codemirror_mode": {
    "name": "ipython",
    "version": 3
   },
   "file_extension": ".py",
   "mimetype": "text/x-python",
   "name": "python",
   "nbconvert_exporter": "python",
   "pygments_lexer": "ipython3",
   "version": "3.7.3"
  }
 },
 "nbformat": 4,
 "nbformat_minor": 4
}
